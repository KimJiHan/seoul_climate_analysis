{
 "cells": [
  {
   "cell_type": "markdown",
   "metadata": {},
   "source": [
    "# 🔍 Google Drive Data Verification for Seoul Heatwave Course\n",
    "\n",
    "This notebook helps verify that data has been correctly uploaded to Google Drive."
   ]
  },
  {
   "cell_type": "markdown",
   "metadata": {},
   "source": [
    "## 1. Mount Google Drive"
   ]
  },
  {
   "cell_type": "code",
   "execution_count": null,
   "metadata": {},
   "outputs": [],
   "source": [
    "# This cell only works in Google Colab\n",
    "import sys\n",
    "\n",
    "if 'google.colab' in sys.modules:\n",
    "    from google.colab import drive\n",
    "    drive.mount('/content/drive')\n",
    "    print(\"✅ Google Drive mounted successfully!\")\n",
    "else:\n",
    "    print(\"⚠️ This notebook is designed for Google Colab\")\n",
    "    print(\"📝 To test locally, use the original data paths\")"
   ]
  },
  {
   "cell_type": "markdown",
   "metadata": {},
   "source": [
    "## 2. Check Data Structure"
   ]
  },
  {
   "cell_type": "code",
   "execution_count": null,
   "metadata": {},
   "outputs": [],
   "source": [
    "import os\n",
    "import glob\n",
    "from pathlib import Path\n",
    "\n",
    "# Define possible data paths\n",
    "possible_paths = [\n",
    "    '/content/drive/MyDrive/seoul_heatwave_course',\n",
    "    '/content/drive/My Drive/seoul_heatwave_course',\n",
    "    '/content/drive/Shareddrives/seoul_heatwave_course',\n",
    "    '../drive_upload/seoul_heatwave_course'  # Local test path\n",
    "]\n",
    "\n",
    "# Find the data\n",
    "DATA_PATH = None\n",
    "for path in possible_paths:\n",
    "    if os.path.exists(path):\n",
    "        DATA_PATH = path\n",
    "        print(f\"✅ Found data at: {DATA_PATH}\")\n",
    "        break\n",
    "\n",
    "if DATA_PATH is None:\n",
    "    print(\"❌ Data not found. Please check:\")\n",
    "    print(\"  1. Data is uploaded to Google Drive\")\n",
    "    print(\"  2. Folder name is 'seoul_heatwave_course'\")\n",
    "    print(\"  3. Drive is properly mounted\")\n",
    "else:\n",
    "    # List contents\n",
    "    print(\"\\n📁 Directory structure:\")\n",
    "    for root, dirs, files in os.walk(DATA_PATH):\n",
    "        level = root.replace(DATA_PATH, '').count(os.sep)\n",
    "        indent = ' ' * 2 * level\n",
    "        print(f\"{indent}{os.path.basename(root)}/\")\n",
    "        sub_indent = ' ' * 2 * (level + 1)\n",
    "        for file in files[:3]:  # Show first 3 files\n",
    "            print(f\"{sub_indent}{file}\")\n",
    "        if len(files) > 3:\n",
    "            print(f\"{sub_indent}... and {len(files)-3} more files\")"
   ]
  },
  {
   "cell_type": "markdown",
   "metadata": {},
   "source": [
    "## 3. Verify S-DoT Data"
   ]
  },
  {
   "cell_type": "code",
   "execution_count": null,
   "metadata": {},
   "outputs": [],
   "source": [
    "if DATA_PATH:\n",
    "    sdot_path = os.path.join(DATA_PATH, 'data', 'raw', 's-dot')\n",
    "    \n",
    "    if os.path.exists(sdot_path):\n",
    "        csv_files = glob.glob(os.path.join(sdot_path, '*.csv'))\n",
    "        \n",
    "        print(f\"📊 S-DoT Data Status:\")\n",
    "        print(f\"  • Found {len(csv_files)} CSV files\")\n",
    "        \n",
    "        if csv_files:\n",
    "            total_size = sum(os.path.getsize(f) for f in csv_files) / (1024**3)  # GB\n",
    "            print(f\"  • Total size: {total_size:.2f} GB\")\n",
    "            \n",
    "            print(\"\\n📝 Files found:\")\n",
    "            for file in sorted(csv_files)[:5]:\n",
    "                size_mb = os.path.getsize(file) / (1024**2)\n",
    "                print(f\"  ✓ {os.path.basename(file)} ({size_mb:.1f} MB)\")\n",
    "            \n",
    "            if len(csv_files) > 5:\n",
    "                print(f\"  ... and {len(csv_files)-5} more files\")\n",
    "        else:\n",
    "            print(\"  ❌ No CSV files found\")\n",
    "    else:\n",
    "        print(f\"❌ S-DoT data directory not found at {sdot_path}\")"
   ]
  },
  {
   "cell_type": "markdown",
   "metadata": {},
   "source": [
    "## 4. Verify External Data"
   ]
  },
  {
   "cell_type": "code",
   "execution_count": null,
   "metadata": {},
   "outputs": [],
   "source": [
    "if DATA_PATH:\n",
    "    external_path = os.path.join(DATA_PATH, 'data', 'external')\n",
    "    \n",
    "    print(\"📋 External Data Status:\")\n",
    "    \n",
    "    # Check sensor locations\n",
    "    sensor_file = os.path.join(external_path, 'sensor_locations.xlsx')\n",
    "    if os.path.exists(sensor_file):\n",
    "        size_kb = os.path.getsize(sensor_file) / 1024\n",
    "        print(f\"  ✓ sensor_locations.xlsx ({size_kb:.0f} KB)\")\n",
    "    else:\n",
    "        print(\"  ❌ sensor_locations.xlsx not found\")\n",
    "    \n",
    "    # Check SGIS boundaries\n",
    "    sgis_path = os.path.join(external_path, 'sgis_boundaries')\n",
    "    if os.path.exists(sgis_path):\n",
    "        zip_files = glob.glob(os.path.join(sgis_path, '*.zip'))\n",
    "        print(f\"\\n  📍 SGIS Boundaries ({len(zip_files)} files):\")\n",
    "        for zip_file in zip_files:\n",
    "            size_mb = os.path.getsize(zip_file) / (1024**2)\n",
    "            print(f\"    ✓ {os.path.basename(zip_file)} ({size_mb:.1f} MB)\")\n",
    "    else:\n",
    "        print(\"  ❌ SGIS boundaries not found\")"
   ]
  },
  {
   "cell_type": "markdown",
   "metadata": {},
   "source": [
    "## 5. Test Data Loading"
   ]
  },
  {
   "cell_type": "code",
   "execution_count": null,
   "metadata": {},
   "outputs": [],
   "source": [
    "import pandas as pd\n",
    "\n",
    "if DATA_PATH and csv_files:\n",
    "    # Try to load a sample file\n",
    "    sample_file = csv_files[0]\n",
    "    \n",
    "    print(f\"🔍 Testing data load: {os.path.basename(sample_file)}\")\n",
    "    \n",
    "    try:\n",
    "        # Try UTF-8 first (for renamed files)\n",
    "        df = pd.read_csv(sample_file, encoding='utf-8', nrows=5)\n",
    "        print(\"  ✅ Successfully loaded with UTF-8 encoding\")\n",
    "    except:\n",
    "        try:\n",
    "            # Try Korean encoding\n",
    "            df = pd.read_csv(sample_file, encoding='euc-kr', nrows=5)\n",
    "            print(\"  ✅ Successfully loaded with EUC-KR encoding\")\n",
    "        except Exception as e:\n",
    "            print(f\"  ❌ Failed to load: {e}\")\n",
    "            df = None\n",
    "    \n",
    "    if df is not None:\n",
    "        print(f\"\\n📊 Data shape: {df.shape}\")\n",
    "        print(f\"📋 Columns: {df.columns.tolist()[:5]}...\")\n",
    "        print(\"\\n✅ Data is ready for analysis!\")"
   ]
  },
  {
   "cell_type": "markdown",
   "metadata": {},
   "source": [
    "## 6. Verification Summary"
   ]
  },
  {
   "cell_type": "code",
   "execution_count": null,
   "metadata": {},
   "outputs": [],
   "source": [
    "print(\"=\" * 50)\n",
    "print(\"📊 GOOGLE DRIVE DATA VERIFICATION SUMMARY\")\n",
    "print(\"=\" * 50)\n",
    "\n",
    "checklist = {\n",
    "    \"Google Drive Mounted\": 'google.colab' in sys.modules if 'google.colab' in sys.modules else False,\n",
    "    \"Data Folder Found\": DATA_PATH is not None,\n",
    "    \"S-DoT Data (16 files)\": len(csv_files) == 16 if 'csv_files' in locals() else False,\n",
    "    \"Sensor Locations\": os.path.exists(sensor_file) if 'sensor_file' in locals() else False,\n",
    "    \"SGIS Boundaries\": len(zip_files) == 3 if 'zip_files' in locals() else False,\n",
    "    \"Data Loadable\": df is not None if 'df' in locals() else False\n",
    "}\n",
    "\n",
    "for item, status in checklist.items():\n",
    "    icon = \"✅\" if status else \"❌\"\n",
    "    print(f\"{icon} {item}\")\n",
    "\n",
    "if all(checklist.values()):\n",
    "    print(\"\\n🎉 All checks passed! Data is ready for the course.\")\n",
    "else:\n",
    "    print(\"\\n⚠️ Some checks failed. Please review the issues above.\")\n",
    "\n",
    "print(\"\\n💡 Next steps:\")\n",
    "print(\"  1. Share this folder with students (view-only)\")\n",
    "print(\"  2. Students add shortcut to their Drive\")\n",
    "print(\"  3. Run Week01 notebook to start the course\")"
   ]
  }
 ],
 "metadata": {
  "kernelspec": {
   "display_name": "Python 3",
   "language": "python",
   "name": "python3"
  },
  "language_info": {
   "codemirror_mode": {
    "name": "ipython",
    "version": 3
   },
   "file_extension": ".py",
   "mimetype": "text/x-python",
   "name": "python",
   "nbconvert_exporter": "python",
   "pygments_lexer": "ipython3",
   "version": "3.8.0"
  }
 },
 "nbformat": 4,
 "nbformat_minor": 4
}